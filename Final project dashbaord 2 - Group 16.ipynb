{
 "cells": [
  {
   "cell_type": "markdown",
   "id": "2c8a5870",
   "metadata": {},
   "source": [
    "## Group16 \n",
    "## Xinmai Xuan, Peng Lu, Xiao Zhang"
   ]
  },
  {
   "cell_type": "markdown",
   "id": "55169734",
   "metadata": {},
   "source": [
    "##  How to use the dashboard \n",
    "Our group uses two different dashboards to help those who are not experts understand our content, using data from ten countries as examples in our dataset. \n",
    "\n",
    "1. The **first dashboard** shows the relationship between Gross increase and Use of intenstiy in forests. By selecting single or multiple choices of the Gross increase in these countries for different years, you can find the forest's use of intensity in the bar chart on the right. This Dashboard allows you to see if the forests are over-exploited or if the normal trend is ensured. \n",
    "\n",
    "2. The **second Dashboard** reflects the relationship between Gross increase of forests and the factors of greenhouse gases which includes CO,CO2,PM2.5,etc. This dashboard provides information on the gross increase  of forests in each country and analyze whether the increase of forests have an impact on the change in emissions of these gases and PM2.5.For dashboard 2, year slider controls the europe map. The other two dropdown buttons control plot. Users can select their preferred country and type of greenhouse gas to check its variation. "
   ]
  },
  {
   "cell_type": "markdown",
   "id": "a27912a6",
   "metadata": {},
   "source": [
    "## Contextual datasets\n",
    "In this project, we use 2 contextual datasets. \n",
    "1. The first one, named pollution exposure, reflects the PM 2.5 emission amount of each country. \n",
    "2. The other one, named GHG emissions, records values of some major greenhouse gas emissions such as CO2, CO, SOX, VOC, NOX, and GHG. \n",
    "\n",
    "We believe the variations of forest-related resources may influence the emission of greenhouse gases.  To explore their potential connections, we depict a dashboard to show the relation between countries' GROSSINCREASE value and those emissions."
   ]
  },
  {
   "cell_type": "markdown",
   "id": "18b740f9",
   "metadata": {},
   "source": [
    "## How large is the dataset\n",
    "The maximum size of a single file on Github is 100MB, and all datasets we use in our final project do not exceed the capacity of Github. Therefore, We don't think a larger dataset or a plan to change the dataset will be applied to our fianl project."
   ]
  },
  {
   "cell_type": "code",
   "execution_count": 1,
   "id": "dc37baf6",
   "metadata": {},
   "outputs": [],
   "source": [
    "import pandas as pd\n",
    "import numpy as np\n",
    "import matplotlib.pyplot as plt\n",
    "import geopandas\n",
    "import numpy as np\n",
    "import contextily as ctx\n",
    "import ipywidgets"
   ]
  },
  {
   "cell_type": "code",
   "execution_count": 2,
   "id": "aedfad14",
   "metadata": {},
   "outputs": [],
   "source": [
    "# read dataset\n",
    "# Air and GHG emissions\n",
    "CO2 = pd.read_csv('https://raw.githubusercontent.com/lovefade/lovefade.github.io/main/data/CO2.csv')\n",
    "CO = pd.read_csv('https://raw.githubusercontent.com/lovefade/lovefade.github.io/main/data/CO.csv')\n",
    "GHG = pd.read_csv('https://raw.githubusercontent.com/lovefade/lovefade.github.io/main/data/GHG.csv')\n",
    "NOx = pd.read_csv('https://raw.githubusercontent.com/lovefade/lovefade.github.io/main/data/NOx.csv')\n",
    "SOx = pd.read_csv('https://raw.githubusercontent.com/lovefade/lovefade.github.io/main/data/SOx.csv')\n",
    "\n",
    "# Air pollution exposure\n",
    "PM25 = pd.read_csv('https://raw.githubusercontent.com/lovefade/lovefade.github.io/main/data/PM2.5.csv')\n",
    "\n",
    "# forest resourses\n",
    "Gross_increase = pd.read_csv('https://raw.githubusercontent.com/lovefade/lovefade.github.io/main/data/Gross_increase.csv')\n",
    "Use_intensity = pd.read_csv('https://raw.githubusercontent.com/lovefade/lovefade.github.io/main/data/Intensity_of_use.csv')"
   ]
  },
  {
   "cell_type": "code",
   "execution_count": 3,
   "id": "ab4408a9",
   "metadata": {},
   "outputs": [],
   "source": [
    "merge1 = pd.merge(CO2, CO, on=[\"LOCATION\", \"TIME\"],how='outer')\n",
    "merge1 = merge1[['LOCATION','TIME','Value_x','Value_y']].rename(columns={\"Value_x\": \"CO2\", \"Value_y\": \"CO\"}, errors=\"raise\")"
   ]
  },
  {
   "cell_type": "code",
   "execution_count": 4,
   "id": "821e9f68",
   "metadata": {},
   "outputs": [],
   "source": [
    "merge2 = pd.merge(merge1, GHG, on=[\"LOCATION\", \"TIME\"],how='outer').rename(columns={\"Value\": \"GHG\"})\n",
    "merge3 = pd.merge(merge2, NOx, on=[\"LOCATION\", \"TIME\"],how='outer').rename(columns={\"Value\": \"NOx\"})\n",
    "merge4 = pd.merge(merge3, SOx, on=[\"LOCATION\", \"TIME\"],how='outer').rename(columns={\"Value\": \"SOx\"})\n",
    "merge4 = merge4[['LOCATION','TIME','CO2','CO','GHG','NOx','SOx']]\n",
    "merge5 = pd.merge(merge4, PM25, on=[\"LOCATION\", \"TIME\"],how='outer').rename(columns={\"Value\": \"PM25\"})\n",
    "merge6 = pd.merge(merge5, Gross_increase, on=[\"LOCATION\", \"TIME\"],how='outer').rename(columns={\"Value\": \"Gross_increase\"})\n",
    "merge7 = pd.merge(merge6, Use_intensity, on=[\"LOCATION\", \"TIME\"],how='outer').rename(columns={\"Value\": \"Use_intensity\"})\n",
    "total_merged = merge7[['LOCATION','TIME','CO2','CO','GHG','NOx','SOx','PM25','Gross_increase','Use_intensity']]\n",
    "# total_merged"
   ]
  },
  {
   "cell_type": "code",
   "execution_count": 5,
   "id": "74bebf92",
   "metadata": {},
   "outputs": [
    {
     "name": "stderr",
     "output_type": "stream",
     "text": [
      "C:\\Users\\Xinmai Xuan\\AppData\\Local\\Temp\\ipykernel_13104\\1333799875.py:2: SettingWithCopyWarning: \n",
      "A value is trying to be set on a copy of a slice from a DataFrame.\n",
      "Try using .loc[row_indexer,col_indexer] = value instead\n",
      "\n",
      "See the caveats in the documentation: https://pandas.pydata.org/pandas-docs/stable/user_guide/indexing.html#returning-a-view-versus-a-copy\n",
      "  total_merged['TIME'] = pd.to_datetime(total_merged['TIME'], format='%Y', errors='coerce').dt.year\n"
     ]
    }
   ],
   "source": [
    "# convert time to datetime type\n",
    "total_merged['TIME'] = pd.to_datetime(total_merged['TIME'], format='%Y', errors='coerce').dt.year"
   ]
  },
  {
   "cell_type": "code",
   "execution_count": 6,
   "id": "1e26d51a",
   "metadata": {},
   "outputs": [],
   "source": [
    "# filter a few countries in Europe and time from 2010 to 2020\n",
    "total = total_merged[total_merged['LOCATION'].isin(['AUT', 'DNK', 'FRA', 'DEU','ESP','GBR','IRL','ITA','POL','PRT','NED'])]\n",
    "total = total[(total['TIME']> 2010) & (total['TIME'] < 2020)].reset_index(drop=True)\n",
    "# total\n",
    "data = total"
   ]
  },
  {
   "cell_type": "markdown",
   "id": "6c56493b",
   "metadata": {},
   "source": [
    "## Dashboard 2"
   ]
  },
  {
   "cell_type": "code",
   "execution_count": 7,
   "id": "3db66978",
   "metadata": {
    "scrolled": false
   },
   "outputs": [],
   "source": [
    "eubd = geopandas.read_file('https://raw.githubusercontent.com/lovefade/lovefade.github.io/main/euro-border.geojson')\n",
    "# eubd"
   ]
  },
  {
   "cell_type": "code",
   "execution_count": 8,
   "id": "dedee04e",
   "metadata": {},
   "outputs": [],
   "source": [
    "selectedCountry = ['AUT', 'DEU', 'DNK', 'ESP', 'FRA', 'GBR', 'IRL', 'ITA', 'POL', 'PRT']\n",
    "seleu = eubd[eubd[\"iso3\"].isin(selectedCountry)]\n",
    "# seleu.head()"
   ]
  },
  {
   "cell_type": "code",
   "execution_count": 9,
   "id": "2c6fa7ba",
   "metadata": {},
   "outputs": [],
   "source": [
    "forest = pd.read_csv('https://raw.githubusercontent.com/lovefade/lovefade.github.io/main/data/forest.csv')\n",
    "selforest = forest[(forest['LOCATION'].isin(selectedCountry)) & (forest['SUBJECT'] == 'GROSSINCREASE')]\n",
    "# selforest"
   ]
  },
  {
   "cell_type": "code",
   "execution_count": 10,
   "id": "9655056e",
   "metadata": {},
   "outputs": [],
   "source": [
    "data_map = (\n",
    "    seleu.merge(selforest, left_on=\"iso3\", right_on=\"LOCATION\")[\n",
    "        [\"iso3\", \"geometry\", \"TIME\", \"Value\"]\n",
    "    ]\n",
    ")\n",
    "\n",
    "# data_map"
   ]
  },
  {
   "cell_type": "markdown",
   "id": "cf536f5c",
   "metadata": {},
   "source": [
    "## Interaction"
   ]
  },
  {
   "cell_type": "code",
   "execution_count": 11,
   "id": "97710922",
   "metadata": {},
   "outputs": [
    {
     "data": {
      "application/vnd.jupyter.widget-view+json": {
       "model_id": "cfdf3699c8cd431182d2f93a8bd76c0f",
       "version_major": 2,
       "version_minor": 0
      },
      "text/plain": [
       "interactive(children=(IntSlider(value=2000, description='year_selector', max=2020, min=2000), Dropdown(descrip…"
      ]
     },
     "metadata": {},
     "output_type": "display_data"
    }
   ],
   "source": [
    "@ipywidgets.interact(year_selector=ipywidgets.IntSlider(min=2000, max=2020, step=1, value=2000), country_selector = ipywidgets.Dropdown(options = selectedCountry))\n",
    "\n",
    "def msp_create(year_selector, country_selector):\n",
    "    curval = data_map[data_map[\"TIME\"] == year_selector]\n",
    "    fig,ax = plt.subplots(figsize=(20, 20))\n",
    "    ax.set_xlim(-15, 27)\n",
    "    ax.set_ylim(35, 62.25)\n",
    "\n",
    "    curval.plot(ax=ax, alpha=0.5, edgecolor='k',column='Value',categorical=True, legend=True)\n",
    "\n",
    "    ctx.add_basemap(ax=ax, crs=eubd.crs)\n",
    "    plt.show()"
   ]
  },
  {
   "cell_type": "code",
   "execution_count": 12,
   "id": "1abd73d7",
   "metadata": {},
   "outputs": [],
   "source": [
    "selectedType = ['CO2', 'CO','GHG','NOx','SOx','PM25']\n",
    "selectedCountry = ['AUT', 'DNK', 'FRA', 'DEU','ESP','GBR','IRL','ITA','POL','PRT']"
   ]
  },
  {
   "cell_type": "code",
   "execution_count": 13,
   "id": "1624723b",
   "metadata": {},
   "outputs": [
    {
     "data": {
      "application/vnd.jupyter.widget-view+json": {
       "model_id": "e5104d827c1c44c493c0a7bd75877be2",
       "version_major": 2,
       "version_minor": 0
      },
      "text/plain": [
       "interactive(children=(Dropdown(description='country', options=('AUT', 'DNK', 'FRA', 'DEU', 'ESP', 'GBR', 'IRL'…"
      ]
     },
     "metadata": {},
     "output_type": "display_data"
    }
   ],
   "source": [
    "@ipywidgets.interact(country = ipywidgets.Dropdown(options = selectedCountry),\n",
    "                     type_selector = ipywidgets.Dropdown(options = selectedType))\n",
    "def line_chart(country, type_selector):\n",
    "    airtype = pd.pivot_table(data, values = type_selector, index=['LOCATION'], columns=['TIME'])\n",
    "    plot_data = airtype[airtype.index == country]\n",
    "    x, y = plot_data.columns, plot_data.iloc[0,:]\n",
    "    plt.plot(x, y)\n",
    "    plt.title(f'Line Chart of {type_selector} in {country}')\n",
    "    plt.xlabel('time')\n",
    "    plt.ylabel('value')\n",
    "    plt.show()"
   ]
  },
  {
   "cell_type": "code",
   "execution_count": 14,
   "id": "f5116351",
   "metadata": {},
   "outputs": [
    {
     "data": {
      "application/vnd.jupyter.widget-view+json": {
       "model_id": "6f0a0d6f37fd43ebbcbe721d09b81f21",
       "version_major": 2,
       "version_minor": 0
      },
      "text/plain": [
       "interactive(children=(IntSlider(value=2000, description='year_selector', max=2020, min=2000), Output()), _dom_…"
      ]
     },
     "metadata": {},
     "output_type": "display_data"
    }
   ],
   "source": [
    "@ipywidgets.interact(year_selector=ipywidgets.IntSlider(min=2000, max=2020, step=1, value=2000),\n",
    "                     country = ipywidgets.Dropdown(options = selectedCountry),\n",
    "                     type_selector = ipywidgets.Dropdown(options = selectedType))\n",
    "\n",
    "def msp_line(year_selector):\n",
    "    curval = data_map[data_map[\"TIME\"] == year_selector]\n",
    "    fig,ax = plt.subplots(figsize=(10, 10))\n",
    "    ax.set_xlim(-15, 27)\n",
    "    ax.set_ylim(35, 62.25)\n",
    "\n",
    "    curval.plot(ax=ax, alpha=0.5, edgecolor='k',column='Value',categorical=True, legend=True)\n",
    "\n",
    "    ctx.add_basemap(ax=ax, crs=eubd.crs)\n",
    "    plt.show()\n",
    "    \n",
    "def line_chart(country, type_selector):\n",
    "    airtype = pd.pivot_table(data, values = type_selector, index=['LOCATION'], columns=['TIME'])\n",
    "    plot_data = airtype[airtype.index == country]\n",
    "    x, y = plot_data.columns, plot_data.iloc[0,:]\n",
    "    plt.plot(x, y)\n",
    "    plt.title(f'Line Chart of {type_selector} in {country}')\n",
    "    plt.xlabel('time')\n",
    "    plt.ylabel('value')\n",
    "    plt.show()"
   ]
  },
  {
   "cell_type": "code",
   "execution_count": 15,
   "id": "8091fbb7",
   "metadata": {},
   "outputs": [
    {
     "data": {
      "application/vnd.jupyter.widget-view+json": {
       "model_id": "ad40db3ffce649109968be59b1c1d279",
       "version_major": 2,
       "version_minor": 0
      },
      "text/plain": [
       "interactive(children=(IntSlider(value=2000, description='year_selector', max=2020, min=2000), Dropdown(descrip…"
      ]
     },
     "metadata": {},
     "output_type": "display_data"
    }
   ],
   "source": [
    "@ipywidgets.interact(year_selector=ipywidgets.IntSlider(min=2000, max=2020, step=1, value=2000),\n",
    "                     country = ipywidgets.Dropdown(options = selectedCountry),\n",
    "                     type_selector = ipywidgets.Dropdown(options = selectedType))\n",
    "\n",
    "def dashboard_created(year_selector, country, type_selector):\n",
    "    \n",
    "    \n",
    "    curval = data_map[data_map[\"TIME\"] == year_selector]\n",
    "    airtype = pd.pivot_table(data, values = type_selector, index=['LOCATION'], columns=['TIME'])\n",
    "    plot_data = airtype[airtype.index == country]\n",
    "    \n",
    "    fig,ax = plt.subplots(2, 1, figsize=(7.5, 10))\n",
    "    ax[0].set_xlim(-15, 27)\n",
    "    ax[0].set_ylim(35, 62.25)\n",
    "    curval.plot(ax=ax[0], alpha=0.5, edgecolor='k',column='Value',categorical=True, legend=True)\n",
    "    ctx.add_basemap(ax=ax[0], crs=eubd.crs)\n",
    "    \n",
    "    x, y = plot_data.columns, plot_data.iloc[0,:]\n",
    "    ax[1].plot(x, y)\n",
    "    ax[1].set_title(f'Line Chart of {type_selector} in {country}')\n",
    "    ax[1].set_xlabel('time')\n",
    "    ax[1].set_ylabel('value')\n",
    "    \n",
    "    plt.show()"
   ]
  },
  {
   "cell_type": "code",
   "execution_count": null,
   "id": "1c541f4b",
   "metadata": {},
   "outputs": [],
   "source": []
  }
 ],
 "metadata": {
  "kernelspec": {
   "display_name": "Python 3 (ipykernel)",
   "language": "python",
   "name": "python3"
  },
  "language_info": {
   "codemirror_mode": {
    "name": "ipython",
    "version": 3
   },
   "file_extension": ".py",
   "mimetype": "text/x-python",
   "name": "python",
   "nbconvert_exporter": "python",
   "pygments_lexer": "ipython3",
   "version": "3.8.13"
  },
  "vscode": {
   "interpreter": {
    "hash": "a3103c52e5b2577a050015398b9b2361b817bfe0e6a6cf4ae5eb8503e2bb869a"
   }
  }
 },
 "nbformat": 4,
 "nbformat_minor": 5
}
